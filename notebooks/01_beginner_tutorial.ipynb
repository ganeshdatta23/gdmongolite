{
 "cells": [
  {
   "cell_type": "markdown",
   "metadata": {},
   "source": [
    "# gdmongolite Beginner Tutorial\n",
    "\n",
    "Welcome to the world's easiest MongoDB toolkit! This notebook will teach you everything you need to know to become a MongoDB pro.\n",
    "\n",
    "## What you'll learn:\n",
    "- Connect to MongoDB with zero configuration\n",
    "- Create data models with automatic validation\n",
    "- Perform CRUD operations (Create, Read, Update, Delete)\n",
    "- Write complex queries with simple syntax\n",
    "- Handle errors gracefully"
   ]
  },
  {
   "cell_type": "markdown",
   "metadata": {},
   "source": [
    "## Step 1: Installation and Import\n",
    "\n",
    "First, install gdmongolite if you haven't already:"
   ]
  },
  {
   "cell_type": "code",
   "execution_count": null,
   "metadata": {},
   "outputs": [],
   "source": [
    "# Uncomment and run this if you need to install gdmongolite\n",
    "# !pip install gdmongolite"
   ]
  },
  {
   "cell_type": "code",
   "execution_count": null,
   "metadata": {},
   "outputs": [],
   "source": [
    "# Import everything you need in one line!\n",
    "from gdmongolite import DB, Schema, Email, FieldTypes\n",
    "\n",
    "print(\"gdmongolite imported successfully!\")"
   ]
  },
  {
   "cell_type": "markdown",
   "metadata": {},
   "source": [
    "## Step 2: Connect to Database\n",
    "\n",
    "gdmongolite automatically connects to MongoDB with zero configuration:"
   ]
  },
  {
   "cell_type": "code",
   "execution_count": null,
   "metadata": {},
   "outputs": [],
   "source": [
    "# Connect to database (automatic!)\n",
    "db = DB()\n",
    "print(\"Connected to MongoDB automatically!\")"
   ]
  },
  {
   "cell_type": "markdown",
   "metadata": {},
   "source": [
    "## Step 3: Define Your Data Model\n",
    "\n",
    "Think of a Schema like defining columns in an Excel sheet, but much smarter:"
   ]
  },
  {
   "cell_type": "code",
   "execution_count": null,
   "metadata": {},
   "outputs": [],
   "source": [
    "class User(Schema):\n",
    "    \"\"\"\n",
    "    User model with automatic validation\n",
    "    \"\"\"\n",
    "    name: FieldTypes.Name        # Validates names (1-100 chars)\n",
    "    email: Email                 # Validates email format\n",
    "    age: FieldTypes.Age         # Validates age (0-150)\n",
    "    hobbies: list[str] = []     # List of hobbies (optional)\n",
    "    is_active: bool = True      # Default to active\n",
    "\n",
    "# Register the model with database\n",
    "db.register_schema(User)\n",
    "print(\"User model registered!\")"
   ]
  },
  {
   "cell_type": "markdown",
   "metadata": {},
   "source": [
    "## Step 4: Create Data (INSERT)\n",
    "\n",
    "Let's save some users to the database:"
   ]
  },
  {
   "cell_type": "code",
   "execution_count": null,
   "metadata": {},
   "outputs": [],
   "source": [
    "# Save one user\n",
    "response = await db.User.insert({\n",
    "    \"name\": \"Alice Johnson\",\n",
    "    \"email\": \"alice@example.com\",\n",
    "    \"age\": 28,\n",
    "    \"hobbies\": [\"reading\", \"coding\", \"hiking\"]\n",
    "})\n",
    "\n",
    "print(f\"Success: {response.success}\")\n",
    "print(f\"Message: {response.message}\")\n",
    "print(f\"User ID: {response.data}\")"
   ]
  },
  {
   "cell_type": "code",
   "execution_count": null,
   "metadata": {},
   "outputs": [],
   "source": [
    "# Save multiple users at once\n",
    "users_data = [\n",
    "    {\n",
    "        \"name\": \"Bob Smith\",\n",
    "        \"email\": \"bob@example.com\",\n",
    "        \"age\": 35,\n",
    "        \"hobbies\": [\"gaming\", \"cooking\"]\n",
    "    },\n",
    "    {\n",
    "        \"name\": \"Carol Davis\",\n",
    "        \"email\": \"carol@example.com\",\n",
    "        \"age\": 42,\n",
    "        \"hobbies\": [\"painting\", \"yoga\", \"traveling\"]\n",
    "    },\n",
    "    {\n",
    "        \"name\": \"David Wilson\",\n",
    "        \"email\": \"david@example.com\",\n",
    "        \"age\": 29,\n",
    "        \"hobbies\": [\"music\", \"photography\"]\n",
    "    }\n",
    "]\n",
    "\n",
    "response = await db.User.insert(users_data)\n",
    "print(f\"Saved {response.count} users!\")"
   ]
  },
  {
   "cell_type": "markdown",
   "metadata": {},
   "source": [
    "## Step 5: Read Data (FIND)\n",
    "\n",
    "Now let's find users with various queries:"
   ]
  },
  {
   "cell_type": "code",
   "execution_count": null,
   "metadata": {},
   "outputs": [],
   "source": [
    "# Find all users\n",
    "all_users = await db.User.find().to_list()\n",
    "print(f\"Total users: {len(all_users)}\")\n",
    "\n",
    "# Show first user\n",
    "if all_users:\n",
    "    print(f\"First user: {all_users[0]['name']} ({all_users[0]['email']})\")"
   ]
  },
  {
   "cell_type": "code",
   "execution_count": null,
   "metadata": {},
   "outputs": [],
   "source": [
    "# Find users by age (30 or older)\n",
    "adults = await db.User.find(age__gte=30).to_list()\n",
    "print(f\"Users 30+: {len(adults)}\")\n",
    "\n",
    "for user in adults:\n",
    "    print(f\"  - {user['name']}: {user['age']} years old\")"
   ]
  },
  {
   "cell_type": "code",
   "execution_count": null,
   "metadata": {},
   "outputs": [],
   "source": [
    "# Find users with specific hobbies\n",
    "coders = await db.User.find(hobbies__contains=\"coding\").to_list()\n",
    "print(f\"Users who code: {len(coders)}\")\n",
    "\n",
    "for user in coders:\n",
    "    print(f\"  - {user['name']}: {user['hobbies']}\")"
   ]
  },
  {
   "cell_type": "code",
   "execution_count": null,
   "metadata": {},
   "outputs": [],
   "source": [
    "# Find one specific user\n",
    "alice = await db.User.find(name=\"Alice Johnson\").first()\n",
    "if alice:\n",
    "    print(f\"Found Alice!\")\n",
    "    print(f\"Email: {alice['email']}\")\n",
    "    print(f\"Age: {alice['age']}\")\n",
    "    print(f\"Hobbies: {', '.join(alice['hobbies'])}\")"
   ]
  },
  {
   "cell_type": "markdown",
   "metadata": {},
   "source": [
    "## Step 6: Update Data (UPDATE)\n",
    "\n",
    "Let's modify some user data:"
   ]
  },
  {
   "cell_type": "code",
   "execution_count": null,
   "metadata": {},
   "outputs": [],
   "source": [
    "# Add a new hobby to Alice\n",
    "response = await db.User.update(\n",
    "    {\"name\": \"Alice Johnson\"},  # Find Alice\n",
    "    {\"$push\": {\"hobbies\": \"swimming\"}}  # Add swimming to hobbies\n",
    ")\n",
    "\n",
    "print(f\"Updated {response.count} users\")\n",
    "\n",
    "# Check Alice's updated hobbies\n",
    "alice = await db.User.find(name=\"Alice Johnson\").first()\n",
    "print(f\"Alice's hobbies now: {alice['hobbies']}\")"
   ]
  },
  {
   "cell_type": "code",
   "execution_count": null,
   "metadata": {},
   "outputs": [],
   "source": [
    "# Make everyone one year older\n",
    "response = await db.User.update(\n",
    "    {},  # Empty filter = all users\n",
    "    {\"$inc\": {\"age\": 1}}  # Increment age by 1\n",
    ")\n",
    "\n",
    "print(f\"Made {response.count} users one year older!\")\n",
    "\n",
    "# Check updated ages\n",
    "users = await db.User.find().to_list()\n",
    "for user in users:\n",
    "    print(f\"  - {user['name']}: {user['age']} years old\")"
   ]
  },
  {
   "cell_type": "markdown",
   "metadata": {},
   "source": [
    "## Step 7: Advanced Queries\n",
    "\n",
    "Let's try some more complex queries:"
   ]
  },
  {
   "cell_type": "code",
   "execution_count": null,
   "metadata": {},
   "outputs": [],
   "source": [
    "# Complex query: users between 25-40 who like coding\n",
    "tech_users = await db.User.find(\n",
    "    age__gte=25,\n",
    "    age__lte=40,\n",
    "    hobbies__contains=\"coding\"\n",
    ").to_list()\n",
    "\n",
    "print(f\"Tech users (25-40): {len(tech_users)}\")\n",
    "for user in tech_users:\n",
    "    print(f\"  - {user['name']}: {user['age']} years, hobbies: {user['hobbies']}\")"
   ]
  },
  {
   "cell_type": "code",
   "execution_count": null,
   "metadata": {},
   "outputs": [],
   "source": [
    "# Sorting: get users by age (youngest first)\n",
    "sorted_users = await db.User.find().sort(\"age\").to_list()\n",
    "\n",
    "print(\"Users by age (youngest first):\")\n",
    "for user in sorted_users:\n",
    "    print(f\"  - {user['name']}: {user['age']} years old\")"
   ]
  },
  {
   "cell_type": "code",
   "execution_count": null,
   "metadata": {},
   "outputs": [],
   "source": [
    "# Projection: get only names and emails\n",
    "names_emails = await db.User.find().project(\"name\", \"email\").to_list()\n",
    "\n",
    "print(\"Names and emails only:\")\n",
    "for user in names_emails:\n",
    "    print(f\"  - {user['name']}: {user['email']}\")"
   ]
  },
  {
   "cell_type": "code",
   "execution_count": null,
   "metadata": {},
   "outputs": [],
   "source": [
    "# Pagination: get first 2 users\n",
    "first_page = await db.User.find().limit(2).to_list()\n",
    "print(f\"First page: {len(first_page)} users\")\n",
    "\n",
    "# Get next 2 users\n",
    "second_page = await db.User.find().skip(2).limit(2).to_list()\n",
    "print(f\"Second page: {len(second_page)} users\")"
   ]
  },
  {
   "cell_type": "markdown",
   "metadata": {},
   "source": [
    "## Step 8: Error Handling\n",
    "\n",
    "See how gdmongolite handles invalid data:"
   ]
  },
  {
   "cell_type": "code",
   "execution_count": null,
   "metadata": {},
   "outputs": [],
   "source": [
    "# Try to save invalid data\n",
    "response = await db.User.insert({\n",
    "    \"name\": \"\",  # Empty name (invalid!)\n",
    "    \"email\": \"not-an-email\",  # Invalid email!\n",
    "    \"age\": -5  # Negative age (invalid!)\n",
    "})\n",
    "\n",
    "print(f\"Success: {response.success}\")\n",
    "if not response.success:\n",
    "    print(f\"Error caught: {response.error}\")\n",
    "    print(\"gdmongolite protected your database from bad data!\")"
   ]
  },
  {
   "cell_type": "markdown",
   "metadata": {},
   "source": [
    "## Step 9: Delete Data (DELETE)\n",
    "\n",
    "Finally, let's clean up some data:"
   ]
  },
  {
   "cell_type": "code",
   "execution_count": null,
   "metadata": {},
   "outputs": [],
   "source": [
    "# Delete users over 50 (none in our example)\n",
    "response = await db.User.delete(age__gt=50)\n",
    "print(f\"Deleted {response.count} users over 50\")\n",
    "\n",
    "# Count remaining users\n",
    "remaining = await db.User.find().count()\n",
    "print(f\"Users remaining: {remaining}\")"
   ]
  },
  {
   "cell_type": "markdown",
   "metadata": {},
   "source": [
    "## Step 10: Synchronous Operations\n",
    "\n",
    "If you prefer non-async code, gdmongolite supports that too:"
   ]
  },
  {
   "cell_type": "code",
   "execution_count": null,
   "metadata": {},
   "outputs": [],
   "source": [
    "# Sync operations (no async/await needed)\n",
    "\n",
    "# Save user (sync)\n",
    "response = db.User.insert_sync({\n",
    "    \"name\": \"Sync User\",\n",
    "    \"email\": \"sync@example.com\",\n",
    "    \"age\": 25\n",
    "})\n",
    "print(f\"Sync save: {response.message}\")\n",
    "\n",
    "# Find users (sync)\n",
    "users = db.User.find(age__gte=20).to_list_sync()\n",
    "print(f\"Found {len(users)} users (sync)\")\n",
    "\n",
    "# Update user (sync)\n",
    "response = db.User.update_sync(\n",
    "    {\"name\": \"Sync User\"},\n",
    "    {\"age\": 26}\n",
    ")\n",
    "print(f\"Sync update: {response.message}\")\n",
    "\n",
    "# Delete user (sync)\n",
    "response = db.User.delete_sync(name=\"Sync User\")\n",
    "print(f\"Sync delete: {response.message}\")"
   ]
  },
  {
   "cell_type": "markdown",
   "metadata": {},
   "source": [
    "## Congratulations!\n",
    "\n",
    "You've just learned MongoDB with gdmongolite! You now know how to:\n",
    "\n",
    "- Connect to MongoDB with zero configuration\n",
    "- Define data models with automatic validation\n",
    "- Save data to the database\n",
    "- Find data with simple and complex queries\n",
    "- Update data safely\n",
    "- Delete data when needed\n",
    "- Handle errors gracefully\n",
    "- Use both async and sync operations\n",
    "\n",
    "## Next Steps:\n",
    "\n",
    "1. Try the Web API notebook to create REST APIs\n",
    "2. Try the Data Import/Export notebook to work with files\n",
    "3. Explore the advanced features in the documentation\n",
    "4. Build something amazing!\n",
    "\n",
    "You're now a MongoDB pro with gdmongolite!"
   ]
  }
 ],
 "metadata": {
  "kernelspec": {
   "display_name": "Python 3",
   "language": "python",
   "name": "python3"
  },
  "language_info": {
   "codemirror_mode": {
    "name": "ipython",
    "version": 3
   },
   "file_extension": ".py",
   "name": "python",
   "nbconvert_exporter": "python",
   "pygments_lexer": "ipython3",
   "version": "3.8.0"
  }
 },
 "nbformat": 4,
 "nbformat_minor": 4
}